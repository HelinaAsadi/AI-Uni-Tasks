{
 "cells": [
  {
   "cell_type": "code",
   "execution_count": 2,
   "id": "initial_id",
   "metadata": {
    "collapsed": true,
    "ExecuteTime": {
     "end_time": "2025-06-02T12:52:13.511162500Z",
     "start_time": "2025-06-02T12:52:13.484291900Z"
    }
   },
   "outputs": [
    {
     "name": "stdout",
     "output_type": "stream",
     "text": [
      "1: [2, 4, 5]\n",
      "2: [1, 3, 5, 6, 9]\n",
      "3: [2, 6, 7]\n",
      "4: [1, 5, 8]\n",
      "5: [1, 2, 4, 6, 8, 9]\n",
      "6: [2, 3, 5, 7, 9, 10]\n",
      "7: [3, 6, 10]\n",
      "8: [4, 5, 9]\n",
      "9: [2, 5, 6, 8, 10]\n",
      "10: [6, 7, 9]\n"
     ]
    }
   ],
   "source": [
    "# Reading the Edge List and making an adjacency list from it (by using a dictionary)\n",
    "\n",
    "graph = {}\n",
    "\n",
    "with open(\"Test 1.txt\", \"r\") as testFile:\n",
    "    for line in testFile:\n",
    "        u, v = map(int, line.strip().split())\n",
    "        # Undirected graph so we add both direction\n",
    "        if u not in graph:\n",
    "            graph[u] = []\n",
    "        if v not in graph:\n",
    "            graph[v] = []\n",
    "\n",
    "        graph[u].append(v)\n",
    "        graph[v].append(u)\n",
    "\n",
    "for node in sorted(graph):\n",
    "    print(f\"{node}: {graph[node]}\")"
   ]
  },
  {
   "cell_type": "code",
   "execution_count": 5,
   "outputs": [
    {
     "name": "stdout",
     "output_type": "stream",
     "text": [
      "No goal is specified.\n",
      "Traversed Route :  [1, 5, 9, 10, 7, 3, 8, 6, 4, 2]\n"
     ]
    }
   ],
   "source": [
    "from collections import deque\n",
    "\n",
    "# DFS ; using deque as a stack \n",
    "\n",
    "root = 1            # root can be specified as desired; 1 is just a default\n",
    "stack = deque()     # initiating a queue\n",
    "stack.append(root)  # putting root first in the queue\n",
    "visited = set()     # making a set to keep track of all visited nodes\n",
    "visited.add(root)   # adding root to the visited set\n",
    "goal = None         # NO GOAL IS SPECIFIED, but this value can change to any desirable node number as a goal\n",
    "traversed = []\n",
    "success = 0\n",
    "\n",
    "while len(stack) > 0:\n",
    "    node = stack.pop()     # pop() works as FILO\n",
    "    traversed.append(node)\n",
    "    if node == goal:\n",
    "        success = 1\n",
    "        break\n",
    "    else:\n",
    "        for each in graph[node]:\n",
    "            if each not in visited:\n",
    "                stack.append(each)\n",
    "                visited.add(each)\n",
    "\n",
    "if goal == None:\n",
    "    print(\"No goal is specified.\")\n",
    "elif success == 1:\n",
    "    print(\"Success\")\n",
    "else:\n",
    "    print(\"Failure\")\n",
    "\n",
    "print(\"Traversed Route : \", traversed)"
   ],
   "metadata": {
    "collapsed": false,
    "ExecuteTime": {
     "end_time": "2025-06-03T09:10:06.444300300Z",
     "start_time": "2025-06-03T09:10:06.422869500Z"
    }
   },
   "id": "dd69de36eb82b72c"
  }
 ],
 "metadata": {
  "kernelspec": {
   "display_name": "Python 3",
   "language": "python",
   "name": "python3"
  },
  "language_info": {
   "codemirror_mode": {
    "name": "ipython",
    "version": 2
   },
   "file_extension": ".py",
   "mimetype": "text/x-python",
   "name": "python",
   "nbconvert_exporter": "python",
   "pygments_lexer": "ipython2",
   "version": "2.7.6"
  }
 },
 "nbformat": 4,
 "nbformat_minor": 5
}
