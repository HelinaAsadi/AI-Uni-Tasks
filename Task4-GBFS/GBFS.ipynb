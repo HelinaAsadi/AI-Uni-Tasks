{
 "cells": [
  {
   "cell_type": "code",
   "execution_count": 11,
   "id": "initial_id",
   "metadata": {
    "collapsed": true,
    "ExecuteTime": {
     "end_time": "2025-06-04T09:07:57.511392300Z",
     "start_time": "2025-06-04T09:07:57.480910500Z"
    }
   },
   "outputs": [
    {
     "data": {
      "text/plain": "{'Arad': 366,\n 'Bucharest': 0,\n 'Craiova': 160,\n 'Dobreta': 242,\n 'Eforie': 161,\n 'Fagaras': 178,\n 'Giurgiu': 77,\n 'Hirsova': 151,\n 'Iasi': 226,\n 'Lugoj': 244,\n 'Mehadia': 241,\n 'Neamt': 234,\n 'Oradea': 380,\n 'Pitesti': 98,\n 'Rimnicu_Vilcea': 193,\n 'Sibiu': 253,\n 'Timisoara': 329,\n 'Urziceni': 80,\n 'Vaslui': 199,\n 'Zerind': 374}"
     },
     "execution_count": 11,
     "metadata": {},
     "output_type": "execute_result"
    }
   ],
   "source": [
    "# Getting Straight Line data from straightLines.txt\n",
    "\n",
    "straightLines = {}\n",
    "with open(\"straightLines.txt\", \"r\") as testFile:\n",
    "    for i in testFile.readlines():\n",
    "        node_heuristic_val = i.split()\n",
    "        straightLines[node_heuristic_val[0]] = int(node_heuristic_val[1])\n",
    "        \n",
    "straightLines"
   ]
  },
  {
   "cell_type": "code",
   "execution_count": 12,
   "outputs": [
    {
     "data": {
      "text/plain": "{'Arad': [['Sibiu', '140'], ['Timisoara', '118'], ['Zerind', '75']],\n 'Sibiu': [['Arad', '140'],\n  ['Fagaras', '99'],\n  ['Oradea', '151'],\n  ['Rimnicu_Vilcea', '80']],\n 'Timisoara': [['Arad', '118'], ['Lugoj', '111']],\n 'Zerind': [['Arad', '75'], ['Oradea', '71']],\n 'Bucharest': [['Fagaras', '211'],\n  ['Giurgiu', '90'],\n  ['Pitesti', '101'],\n  ['Urziceni', '85']],\n 'Fagaras': [['Bucharest', '211'], ['Sibiu', '99']],\n 'Giurgiu': [['Bucharest', '90']],\n 'Pitesti': [['Bucharest', '101'],\n  ['Craiova', '138'],\n  ['Rimnicu_Vilcea', '97']],\n 'Urziceni': [['Bucharest', '85'], ['Hirsova', '98'], ['Vaslui', '142']],\n 'Craiova': [['Dobreta', '120'],\n  ['Pitesti', '138'],\n  ['Rimnicu_Vilcea', '146']],\n 'Dobreta': [['Craiova', '120'], ['Mehadia', '75']],\n 'Rimnicu_Vilcea': [['Craiova', '146'], ['Pitesti', '97'], ['Sibiu', '80']],\n 'Mehadia': [['Dobreta', '75'], ['Lugoj', '70']],\n 'Eforie': [['Hirsova', '86']],\n 'Hirsova': [['Eforie', '86'], ['Urziceni', '98']],\n 'Iasi': [['Neamt', '87'], ['Vaslui', '92']],\n 'Neamt': [['Iasi', '87']],\n 'Vaslui': [['Iasi', '92'], ['Urziceni', '142']],\n 'Lugoj': [['Mehadia', '70'], ['Timisoara', '111']],\n 'Oradea': [['Zerind', '71'], ['Sibiu', '151']]}"
     },
     "execution_count": 12,
     "metadata": {},
     "output_type": "execute_result"
    }
   ],
   "source": [
    "# Getting Graph's (connected nodes) data from neighbors.txt\n",
    "\n",
    "graph = {}\n",
    "with open(\"neighbors.txt\", \"r\") as testFile:\n",
    "    for i in testFile.readlines():\n",
    "        node_val = i.split()\n",
    "\n",
    "        if node_val[0] in graph and node_val[1] in graph:\n",
    "            c = graph.get(node_val[0])\n",
    "            c.append([node_val[1], node_val[2]])\n",
    "            graph.update({node_val[0]: c})\n",
    "\n",
    "            c = graph.get(node_val[1])\n",
    "            c.append([node_val[0], node_val[2]])\n",
    "            graph.update({node_val[1]: c})\n",
    "\n",
    "        elif node_val[0] in graph:\n",
    "            c = graph.get(node_val[0])\n",
    "            c.append([node_val[1], node_val[2]])\n",
    "            graph.update({node_val[0]: c})\n",
    "\n",
    "            graph[node_val[1]] = [[node_val[0], node_val[2]]]\n",
    "\n",
    "        elif node_val[1] in graph:\n",
    "            c = graph.get(node_val[1])\n",
    "            c.append([node_val[0], node_val[2]])\n",
    "            graph.update({node_val[1]: c})\n",
    "\n",
    "            graph[node_val[0]] = [[node_val[1], node_val[2]]]\n",
    "\n",
    "        else:\n",
    "            graph[node_val[0]] = [[node_val[1], node_val[2]]]\n",
    "            graph[node_val[1]] = [[node_val[0], node_val[2]]]\n",
    "        \n",
    "graph"
   ],
   "metadata": {
    "collapsed": false,
    "ExecuteTime": {
     "end_time": "2025-06-04T09:12:40.443179Z",
     "start_time": "2025-06-04T09:12:40.381173800Z"
    }
   },
   "id": "622c687a4e6db508"
  },
  {
   "cell_type": "code",
   "execution_count": 28,
   "outputs": [
    {
     "name": "stdout",
     "output_type": "stream",
     "text": [
      "traversed route from Arad is:\n",
      "['Arad', 'Sibiu', 'Fagaras', 'Bucharest']\n",
      "traversed route from Craiova is:\n",
      "['Craiova', 'Pitesti', 'Bucharest']\n",
      "traversed route from Dobreta is:\n",
      "['Dobreta', 'Craiova', 'Pitesti', 'Bucharest']\n",
      "traversed route from Eforie is:\n",
      "['Eforie', 'Hirsova', 'Urziceni', 'Bucharest']\n",
      "traversed route from Fagaras is:\n",
      "['Fagaras', 'Bucharest']\n",
      "traversed route from Giurgiu is:\n",
      "['Giurgiu', 'Bucharest']\n",
      "traversed route from Hirsova is:\n",
      "['Hirsova', 'Urziceni', 'Bucharest']\n",
      "traversed route from Iasi is:\n",
      "['Iasi', 'Vaslui', 'Urziceni', 'Bucharest']\n",
      "traversed route from Lugoj is:\n",
      "['Lugoj', 'Mehadia', 'Dobreta', 'Craiova', 'Pitesti', 'Bucharest']\n",
      "traversed route from Mehadia is:\n",
      "['Mehadia', 'Dobreta', 'Craiova', 'Pitesti', 'Bucharest']\n",
      "traversed route from Neamt is:\n",
      "['Neamt', 'Iasi', 'Vaslui', 'Urziceni', 'Bucharest']\n",
      "traversed route from Oradea is:\n",
      "['Oradea', 'Sibiu', 'Fagaras', 'Bucharest']\n",
      "traversed route from Pitesti is:\n",
      "['Pitesti', 'Bucharest']\n",
      "traversed route from Rimnicu_Vilcea is:\n",
      "['Rimnicu_Vilcea', 'Pitesti', 'Bucharest']\n",
      "traversed route from Sibiu is:\n",
      "['Sibiu', 'Fagaras', 'Bucharest']\n",
      "traversed route from Timisoara is:\n",
      "['Timisoara', 'Lugoj', 'Mehadia', 'Dobreta', 'Craiova', 'Pitesti', 'Bucharest']\n",
      "traversed route from Urziceni is:\n",
      "['Urziceni', 'Bucharest']\n",
      "traversed route from Vaslui is:\n",
      "['Vaslui', 'Urziceni', 'Bucharest']\n",
      "traversed route from Zerind is:\n",
      "['Zerind', 'Arad', 'Sibiu', 'Fagaras', 'Bucharest']\n"
     ]
    }
   ],
   "source": [
    "from queue import PriorityQueue\n",
    "\n",
    "# GBFS\n",
    "goal = \"Bucharest\"\n",
    "for key in straightLines :    # Each city is set as the root once\n",
    "    if key != goal : \n",
    "        \n",
    "        root = key\n",
    "        priorityQueue = PriorityQueue()\n",
    "        priorityQueue.put((straightLines[root], root))\n",
    "        traversed = []\n",
    "        \n",
    "        while priorityQueue.empty() == False:\n",
    "            currentNode = priorityQueue.get()[1]\n",
    "            traversed.append(currentNode)\n",
    "            if currentNode == goal:\n",
    "                break\n",
    "            \n",
    "            for neighbor in graph[currentNode] :\n",
    "                if neighbor[0] not in traversed :\n",
    "                    priorityQueue.put((straightLines[neighbor[0]], neighbor[0]))\n",
    "                    \n",
    "                    \n",
    "        print(\"traversed route from \" + root + \" is:\")\n",
    "        print(traversed)"
   ],
   "metadata": {
    "collapsed": false,
    "ExecuteTime": {
     "end_time": "2025-06-04T11:05:29.279542900Z",
     "start_time": "2025-06-04T11:05:29.239138300Z"
    }
   },
   "id": "e1b4a9f7aec52d80"
  }
 ],
 "metadata": {
  "kernelspec": {
   "display_name": "Python 3",
   "language": "python",
   "name": "python3"
  },
  "language_info": {
   "codemirror_mode": {
    "name": "ipython",
    "version": 2
   },
   "file_extension": ".py",
   "mimetype": "text/x-python",
   "name": "python",
   "nbconvert_exporter": "python",
   "pygments_lexer": "ipython2",
   "version": "2.7.6"
  }
 },
 "nbformat": 4,
 "nbformat_minor": 5
}
