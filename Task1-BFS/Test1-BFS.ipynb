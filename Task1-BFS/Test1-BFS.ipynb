{
 "cells": [
  {
   "cell_type": "code",
   "execution_count": 2,
   "id": "initial_id",
   "metadata": {
    "collapsed": true,
    "ExecuteTime": {
     "end_time": "2025-06-01T16:45:25.114307800Z",
     "start_time": "2025-06-01T16:45:25.106587200Z"
    }
   },
   "outputs": [
    {
     "name": "stdout",
     "output_type": "stream",
     "text": [
      "1: [2, 4, 5]\n",
      "2: [1, 3, 5, 6, 9]\n",
      "3: [2, 6, 7]\n",
      "4: [1, 5, 8]\n",
      "5: [1, 2, 4, 6, 8, 9]\n",
      "6: [2, 3, 5, 7, 9, 10]\n",
      "7: [3, 6, 10]\n",
      "8: [4, 5, 9]\n",
      "9: [2, 5, 6, 8, 10]\n",
      "10: [6, 7, 9]\n"
     ]
    }
   ],
   "source": [
    "# Reading the Edge List and making an adjacency list from it (by using a dictionary)\n",
    "\n",
    "graph = {}\n",
    "\n",
    "with open(\"Test 1.txt\", \"r\") as testFile:\n",
    "    for line in testFile:\n",
    "        u, v = map(int, line.strip().split())\n",
    "        # Undirected graph so we add both direction\n",
    "        if u not in graph:\n",
    "            graph[u] = []\n",
    "        if v not in graph:\n",
    "            graph[v] = []\n",
    "\n",
    "        graph[u].append(v)\n",
    "        graph[v].append(u)\n",
    "\n",
    "for node in sorted(graph):\n",
    "    print(f\"{node}: {graph[node]}\")"
   ]
  },
  {
   "cell_type": "code",
   "execution_count": 3,
   "outputs": [
    {
     "name": "stdout",
     "output_type": "stream",
     "text": [
      "No goal is specified.\n",
      "Traversed Route :  [1, 2, 4, 5, 3, 6, 9, 8, 7, 10]\n"
     ]
    }
   ],
   "source": [
    "from collections import deque\n",
    "\n",
    "# BFS \n",
    "\n",
    "root = 1\n",
    "queue = deque()\n",
    "queue.append(root)  # putting root first in the queue\n",
    "visited = set()  # making a set to keep track of all visited nodes\n",
    "visited.add(root)  # \n",
    "goal = None  # NO GOAL IS SPECIFIED FOR THIS EXAMPLE, but this value can change to any desirable node number as a goal\n",
    "traversed = []\n",
    "success = 0\n",
    "\n",
    "while len(queue) > 0:\n",
    "    node = queue.popleft()\n",
    "    traversed.append(node)\n",
    "    if node == goal:\n",
    "        success = 0\n",
    "        break\n",
    "    else:\n",
    "        for each in graph[node]:\n",
    "            if each not in visited:\n",
    "                queue.append(each)\n",
    "                visited.add(each)\n",
    "\n",
    "if goal == None:\n",
    "    print(\"No goal is specified.\")\n",
    "elif success == 1:\n",
    "    print(\"Success\")\n",
    "else:\n",
    "    print(\"Failure\")\n",
    "\n",
    "print(\"Traversed Route : \", traversed)"
   ],
   "metadata": {
    "collapsed": false,
    "ExecuteTime": {
     "end_time": "2025-06-01T16:45:25.156731800Z",
     "start_time": "2025-06-01T16:45:25.116264100Z"
    }
   },
   "id": "6d36c5e9496af358"
  }
 ],
 "metadata": {
  "kernelspec": {
   "display_name": "Python 3",
   "language": "python",
   "name": "python3"
  },
  "language_info": {
   "codemirror_mode": {
    "name": "ipython",
    "version": 2
   },
   "file_extension": ".py",
   "mimetype": "text/x-python",
   "name": "python",
   "nbconvert_exporter": "python",
   "pygments_lexer": "ipython2",
   "version": "2.7.6"
  }
 },
 "nbformat": 4,
 "nbformat_minor": 5
}
