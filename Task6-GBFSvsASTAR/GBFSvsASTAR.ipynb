{
 "cells": [
  {
   "cell_type": "code",
   "execution_count": 106,
   "outputs": [],
   "source": [
    "# Reading and Processing the grid\n",
    "\n",
    "# Reading the grid data from Test 4.txt file\n",
    "with open(\"Test 4.txt\") as f:\n",
    "    grid = [list(line.strip()) for line in f.readlines()]\n",
    "\n",
    "# Manhattan distance\n",
    "def heuristic(a, b):\n",
    "    return abs(a[0] - b[0]) + abs(a[1] - b[1])\n",
    "\n",
    "\n",
    "# Filtering @ node and getting only valid (passable) neighbor\n",
    "def validNeighbors(currentPosition, grid):\n",
    "    directions = [(-1, 0), (1, 0), (0, -1), (0, 1)]  # possible moves\n",
    "    neighbors = []\n",
    "    for dx, dy in directions:\n",
    "        nx, ny = currentPosition[0] + dx, currentPosition[1] + dy\n",
    "        if 0 <= nx < len(grid) and 0 <= ny < len(grid[0]):   # checking grid boundary ( can not exceed 1024 )\n",
    "            if grid[nx][ny] == '.':\n",
    "                neighbors.append((nx, ny))\n",
    "    return neighbors"
   ],
   "metadata": {
    "collapsed": false,
    "ExecuteTime": {
     "end_time": "2025-06-06T10:58:42.991552200Z",
     "start_time": "2025-06-06T10:58:42.960277800Z"
    }
   },
   "id": "53e988c27ec9395a"
  },
  {
   "cell_type": "code",
   "execution_count": 107,
   "outputs": [],
   "source": [
    "# GBFS function\n",
    "\n",
    "from queue import PriorityQueue\n",
    "import time\n",
    "\n",
    "def gbfs(grid, root, goal):\n",
    "    \n",
    "    success = 0\n",
    "    priorityQueue = PriorityQueue()\n",
    "    priorityQueue.put((heuristic(root, goal), root))\n",
    "    traversed = []\n",
    "    visited = set()\n",
    "\n",
    "    startT = time.perf_counter()         # START TIME\n",
    "    while priorityQueue.empty() == False:\n",
    "        currentNode = priorityQueue.get()[1]        # getting the next high-priority node in queue\n",
    "        if currentNode in visited:\n",
    "            continue\n",
    "        traversed.append(currentNode)               # adding it to the traversed list\n",
    "        visited.add(currentNode)\n",
    "        \n",
    "        if currentNode == goal:\n",
    "            success = 1\n",
    "            break\n",
    "\n",
    "        for neighbor in validNeighbors(currentNode, grid):    # getting current node's VALID neighbors\n",
    "            if neighbor not in visited:                     # avoiding loops\n",
    "                priorityQueue.put((heuristic(neighbor, goal), neighbor))\n",
    "    \n",
    "    endT = time.perf_counter()   # END TIME\n",
    "    return traversed, (endT - startT), success"
   ],
   "metadata": {
    "collapsed": false,
    "ExecuteTime": {
     "end_time": "2025-06-06T10:58:42.992584900Z",
     "start_time": "2025-06-06T10:58:42.985454900Z"
    }
   },
   "id": "539b9cd0b5b92d8b"
  },
  {
   "cell_type": "code",
   "execution_count": 108,
   "outputs": [],
   "source": [
    "# A* function\n",
    "\n",
    "def astar(grid, root, goal):\n",
    "    \n",
    "    success = 0\n",
    "    priorityQueue = PriorityQueue()\n",
    "    priorityQueue.put((heuristic(root, goal), root))\n",
    "    traversed = []\n",
    "    distance = 0\n",
    "    \n",
    "    startT = time.perf_counter()         # START TIME\n",
    "    while priorityQueue.empty() == False:\n",
    "        currentNode = priorityQueue.get()[1]      # getting the next high-priority node               \n",
    "        traversed.append(currentNode)             # adding it to the traversed list\n",
    "        distance += 1                             # moving 1 unit and adding 1 to distance\n",
    "\n",
    "        if currentNode == goal:\n",
    "            success = 1\n",
    "            break\n",
    "            \n",
    "        priorityQueue = PriorityQueue()           # initiating a new queue for the next step\n",
    "\n",
    "        for neighbor in validNeighbors(currentNode, grid):     # getting current node's VALID neighbors\n",
    "            if neighbor not in traversed:                                # avoiding loops\n",
    "                priority = distance + 1 + int(heuristic(neighbor, goal)) # f(n) = g(n) + h(n)\n",
    "                priorityQueue.put((priority, neighbor))\n",
    "                \n",
    "\n",
    "    endT = time.perf_counter()   # END TIME\n",
    "    return traversed, (endT - startT), success"
   ],
   "metadata": {
    "collapsed": false,
    "ExecuteTime": {
     "end_time": "2025-06-06T10:58:43.011130700Z",
     "start_time": "2025-06-06T10:58:42.998538100Z"
    }
   },
   "id": "8273331ed11074e"
  },
  {
   "cell_type": "code",
   "execution_count": 109,
   "outputs": [
    {
     "name": "stdout",
     "output_type": "stream",
     "text": [
      "\n",
      "🔵 GBFS from (180, 176) to (180, 178):\n",
      "Traversed 3 nodes\n",
      "\n",
      "🔴 A* from (180, 176) to (180, 178):\n",
      "Traversed 3 nodes\n",
      "\n",
      "🔵 GBFS from (300, 384) to (313, 380):\n",
      "Traversed 18 nodes\n",
      "\n",
      "🔴 A* from (300, 384) to (313, 380):\n",
      "Traversed 18 nodes\n",
      "\n",
      "🔵 GBFS from (627, 739) to (635, 675):\n",
      "Could't reach goal\n",
      "\n",
      "🔴 A* from (627, 739) to (635, 675):\n",
      "Could't reach goal\n",
      "\n",
      "🔵 GBFS from (88, 578) to (168, 492):\n",
      "Traversed 205 nodes\n",
      "\n",
      "🔴 A* from (88, 578) to (168, 492):\n",
      "Traversed 205 nodes\n",
      "\n",
      "🔵 GBFS from (137, 194) to (284, 166):\n",
      "Traversed 176 nodes\n",
      "\n",
      "🔴 A* from (137, 194) to (284, 166):\n",
      "Traversed 176 nodes\n",
      "\n",
      "🔵 GBFS from (190, 400) to (785, 622):\n",
      "Could't reach goal\n",
      "\n",
      "🔴 A* from (190, 400) to (785, 622):\n",
      "Could't reach goal\n",
      "\n",
      "🔵 GBFS from (594, 936) to (847, 79):\n",
      "Could't reach goal\n",
      "\n",
      "🔴 A* from (594, 936) to (847, 79):\n",
      "Could't reach goal\n",
      "\n",
      "🔵 GBFS from (1007, 799) to (139, 191):\n",
      "Could't reach goal\n",
      "\n",
      "🔴 A* from (1007, 799) to (139, 191):\n",
      "Could't reach goal\n",
      "\n",
      "🔵 GBFS from (102, 1) to (776, 837):\n",
      "Could't reach goal\n",
      "\n",
      "🔴 A* from (102, 1) to (776, 837):\n",
      "Could't reach goal\n",
      "\n",
      "🔵 GBFS from (1005, 1002) to (19, 3):\n",
      "Traversed 21265 nodes\n",
      "\n",
      "🔴 A* from (1005, 1002) to (19, 3):\n",
      "Could't reach goal\n"
     ]
    }
   ],
   "source": [
    "# 10 root -> goal pairs that wew given in Task instructions\n",
    "# ( ( rootx , rooty ) , (goalx , goaly) )\n",
    "pairs = [\n",
    "    ((180, 176), (180, 178)),\n",
    "    ((300, 384), (313, 380)),\n",
    "    ((627, 739), (635, 675)),\n",
    "    ((88, 578), (168, 492)),\n",
    "    ((137, 194), (284, 166)),\n",
    "    ((190, 400), (785, 622)),\n",
    "    ((594, 936), (847, 79)),\n",
    "    ((1007, 799), (139, 191)),\n",
    "    ((102, 1), (776, 837)),\n",
    "    ((1005, 1002), (19, 3)),\n",
    "    ]\n",
    "\n",
    "results = []        # will be used to make result table\n",
    "\n",
    "for i, (start, goal) in enumerate(pairs, 1):\n",
    "    print(f\"\\n🔵 GBFS from {start} to {goal}:\")\n",
    "    gbfs_path, gbfs_time, success = gbfs(grid, start, goal)\n",
    "    if success == 1 :\n",
    "        print(f\"Traversed {len(gbfs_path)} nodes\")\n",
    "    else:\n",
    "        print(\"Could't reach goal\")\n",
    "       \n",
    "\n",
    "    print(f\"\\n🔴 A* from {start} to {goal}:\")\n",
    "    astar_path, astar_time, success = astar(grid, start, goal)\n",
    "    if success == 1 :\n",
    "        print(f\"Traversed {len(astar_path)} nodes\")\n",
    "    else:\n",
    "        print(\"Could't reach goal\")\n",
    "\n",
    "    results.append({\n",
    "        \"Success\" : success,\n",
    "        \"Test Case\": i,\n",
    "        \"Start\": start,\n",
    "        \"Goal\": goal,\n",
    "        \"GBFS Time\": gbfs_time,\n",
    "        \"GBFS Path Length\": len(gbfs_path),\n",
    "        \"A* Time\": astar_time,\n",
    "        \"A* Path Length\": len(astar_path)\n",
    "    })"
   ],
   "metadata": {
    "collapsed": false,
    "ExecuteTime": {
     "end_time": "2025-06-06T10:59:14.942855800Z",
     "start_time": "2025-06-06T10:58:43.004998100Z"
    }
   },
   "id": "559c52ff308db2b6"
  },
  {
   "cell_type": "code",
   "execution_count": 110,
   "outputs": [
    {
     "name": "stdout",
     "output_type": "stream",
     "text": [
      "+-----------+-------------+--------------+------------+--------------+--------------------+-------------+------------------+\n",
      "|   Success |   Test Case | Start        | Goal       |    GBFS Time |   GBFS Path Length |     A* Time |   A* Path Length |\n",
      "+===========+=============+==============+============+==============+====================+=============+==================+\n",
      "|         1 |           1 | (180, 176)   | (180, 178) |  5.51e-05    |                  3 | 5.1e-05     |                3 |\n",
      "+-----------+-------------+--------------+------------+--------------+--------------------+-------------+------------------+\n",
      "|         1 |           2 | (300, 384)   | (313, 380) |  0.0001227   |                 18 | 0.0002026   |               18 |\n",
      "+-----------+-------------+--------------+------------+--------------+--------------------+-------------+------------------+\n",
      "|         0 |           3 | (627, 739)   | (635, 675) |  5.40004e-06 |                  1 | 8.40001e-06 |                1 |\n",
      "+-----------+-------------+--------------+------------+--------------+--------------------+-------------+------------------+\n",
      "|         1 |           4 | (88, 578)    | (168, 492) |  0.0013624   |                205 | 0.0038452   |              205 |\n",
      "+-----------+-------------+--------------+------------+--------------+--------------------+-------------+------------------+\n",
      "|         1 |           5 | (137, 194)   | (284, 166) |  0.001254    |                176 | 0.0028663   |              176 |\n",
      "+-----------+-------------+--------------+------------+--------------+--------------------+-------------+------------------+\n",
      "|         0 |           6 | (190, 400)   | (785, 622) |  8.69717     |             755118 | 1.77211     |             7242 |\n",
      "+-----------+-------------+--------------+------------+--------------+--------------------+-------------+------------------+\n",
      "|         0 |           7 | (594, 936)   | (847, 79)  |  9.61489     |             755118 | 0.0242879   |              527 |\n",
      "+-----------+-------------+--------------+------------+--------------+--------------------+-------------+------------------+\n",
      "|         0 |           8 | (1007, 799)  | (139, 191) |  8.80001e-06 |                  1 | 1.91e-05    |                1 |\n",
      "+-----------+-------------+--------------+------------+--------------+--------------------+-------------+------------------+\n",
      "|         0 |           9 | (102, 1)     | (776, 837) | 11.0725      |             755118 | 0.039394    |              932 |\n",
      "+-----------+-------------+--------------+------------+--------------+--------------------+-------------+------------------+\n",
      "|         0 |          10 | (1005, 1002) | (19, 3)    |  0.346414    |              21265 | 0.0129368   |              336 |\n",
      "+-----------+-------------+--------------+------------+--------------+--------------------+-------------+------------------+\n"
     ]
    }
   ],
   "source": [
    "# Making A TABLE of RESULTS\n",
    "from tabulate import tabulate\n",
    "print(tabulate(results, headers=\"keys\", tablefmt=\"grid\"))"
   ],
   "metadata": {
    "collapsed": false,
    "ExecuteTime": {
     "end_time": "2025-06-06T10:59:14.944951300Z",
     "start_time": "2025-06-06T10:59:14.930824700Z"
    }
   },
   "id": "b87c71e5c810740c"
  }
 ],
 "metadata": {
  "kernelspec": {
   "display_name": "Python 3",
   "language": "python",
   "name": "python3"
  },
  "language_info": {
   "codemirror_mode": {
    "name": "ipython",
    "version": 2
   },
   "file_extension": ".py",
   "mimetype": "text/x-python",
   "name": "python",
   "nbconvert_exporter": "python",
   "pygments_lexer": "ipython2",
   "version": "2.7.6"
  }
 },
 "nbformat": 4,
 "nbformat_minor": 5
}
